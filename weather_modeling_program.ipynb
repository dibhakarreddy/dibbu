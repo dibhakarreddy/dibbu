{
  "nbformat": 4,
  "nbformat_minor": 0,
  "metadata": {
    "colab": {
      "provenance": [],
      "authorship_tag": "ABX9TyMJ0IxqeG5oysYO7mIvJWsq",
      "include_colab_link": true
    },
    "kernelspec": {
      "name": "python3",
      "display_name": "Python 3"
    },
    "language_info": {
      "name": "python"
    }
  },
  "cells": [
    {
      "cell_type": "markdown",
      "metadata": {
        "id": "view-in-github",
        "colab_type": "text"
      },
      "source": [
        "<a href=\"https://colab.research.google.com/github/dibhakarreddy/dibbu/blob/main/weather_modeling_program.ipynb\" target=\"_parent\"><img src=\"https://colab.research.google.com/assets/colab-badge.svg\" alt=\"Open In Colab\"/></a>"
      ]
    },
    {
      "cell_type": "code",
      "execution_count": 5,
      "metadata": {
        "colab": {
          "base_uri": "https://localhost:8080/"
        },
        "id": "czBW3XnkB9iz",
        "outputId": "de614186-b897-409c-b9ca-826579b47821"
      },
      "outputs": [
        {
          "output_type": "stream",
          "name": "stdout",
          "text": [
            "Weather modeling result (hardcoded values): 426.0\n",
            "Enter the temperature (T): 2\n",
            "Enter the humidity (H): 4\n",
            "Enter the wind speed (W): 6\n",
            "Weather modeling result (keyboard input): -13.2\n",
            "Weather modeling result (file input, single set): 426.0\n",
            "Weather modeling result (set 1): 426.0\n",
            "Weather modeling result (set 2): 287.0\n",
            "Weather modeling result (set 3): 591.5\n",
            "Enter the number of input sets: 2\n",
            "\n",
            "Set 1:\n",
            "Enter the temperature (T): 3\n",
            "Enter the humidity (H): 5\n",
            "Enter the wind speed (W): 7\n",
            "Weather modeling result (set 1): -10.8\n",
            "\n",
            "Set 2:\n",
            "Enter the temperature (T): 9\n",
            "Enter the humidity (H): 7\n",
            "Enter the wind speed (W): 5\n",
            "Weather modeling result (set 2): 24.6\n"
          ]
        }
      ],
      "source": [
        "# Method 1: Hardcoding Variables\n",
        "def hardcoding():\n",
        "    T = 30  # Temperature\n",
        "    H = 50  # Humidity\n",
        "    W = 10  # Wind speed\n",
        "    weather_model = 0.5 * T**2 - 0.2 * H + 0.1 * W - 15\n",
        "    print(f\"Weather modeling result (hardcoded values): {weather_model}\")\n",
        "\n",
        "# Method 2: Keyboard Input\n",
        "def keyboard_input():\n",
        "    T = float(input(\"Enter the temperature (T): \"))\n",
        "    H = float(input(\"Enter the humidity (H): \"))\n",
        "    W = float(input(\"Enter the wind speed (W): \"))\n",
        "    weather_model = 0.5 * T**2 - 0.2 * H + 0.1 * W - 15\n",
        "    print(f\"Weather modeling result (keyboard input): {weather_model}\")\n",
        "\n",
        "# Method 3: Reading from a File (Single Set)\n",
        "def read_from_file_single_set():\n",
        "    with open(\"input.txt\", \"r\") as file:\n",
        "        data = file.readline().strip().split()\n",
        "        T, H, W = map(float, data)\n",
        "        weather_model = 0.5 * T**2 - 0.2 * H + 0.1 * W - 15\n",
        "        print(f\"Weather modeling result (file input, single set): {weather_model}\")\n",
        "\n",
        "# Method 4: Reading from a File (Multiple Sets)\n",
        "def read_from_file_multiple_sets():\n",
        "    with open(\"input.txt\", \"r\") as file:\n",
        "        lines = file.readlines()\n",
        "        for idx, line in enumerate(lines):\n",
        "            T, H, W = map(float, line.strip().split())\n",
        "            weather_model = 0.5 * T**2 - 0.2 * H + 0.1 * W - 15\n",
        "            print(f\"Weather modeling result (set {idx + 1}): {weather_model}\")\n",
        "\n",
        "# Method 5: Using a Loop for Multiple Keyboard Inputs\n",
        "def multiple_keyboard_inputs():\n",
        "    num_sets = int(input(\"Enter the number of input sets: \"))\n",
        "    for i in range(num_sets):\n",
        "        print(f\"\\nSet {i + 1}:\")\n",
        "        T = float(input(\"Enter the temperature (T): \"))\n",
        "        H = float(input(\"Enter the humidity (H): \"))\n",
        "        W = float(input(\"Enter the wind speed (W): \"))\n",
        "        weather_model = 0.5 * T**2 - 0.2 * H + 0.1 * W - 15\n",
        "        print(f\"Weather modeling result (set {i + 1}): {weather_model}\")\n",
        "\n",
        "# Call the functions\n",
        "hardcoding()\n",
        "keyboard_input()\n",
        "read_from_file_single_set()\n",
        "read_from_file_multiple_sets()\n",
        "multiple_keyboard_inputs()"
      ]
    }
  ]
}